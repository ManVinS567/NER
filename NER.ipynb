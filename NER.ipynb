{
 "cells": [
  {
   "cell_type": "code",
   "execution_count": 40,
   "metadata": {},
   "outputs": [],
   "source": [
    "import spacy\n",
    "import re\n",
    "\n",
    "def extract_information(text):\n",
    "    # There are various spaCy models for different languages. The default model for the English language is designated as en_core_web_sm\n",
    "    nlp = spacy.load(\"en_core_web_sm\") #The load() function returns a Language callable object, which is commonly assigned to a variable called nlp.\n",
    "    \n",
    "    doc = nlp(text) # To start processing your input, you construct a Doc object. A Doc object is a sequence of Token objects representing a lexical token\n",
    "\n",
    "    # to fetch email using regex\n",
    "    email_pattern = r'\\b[A-Za-z0-9._%+-]+@[A-Za-z0-9.-]+\\.[A-Za-z]{2,}\\b'\n",
    "\n",
    "    # create empty lists to store the named entities\n",
    "    names = []\n",
    "    entities = []\n",
    "    dates = []\n",
    "    countries = []\n",
    "    # emails = []\n",
    "\n",
    "    for ent in doc.ents: # spaCy has the property .ents on Doc objects. You can use it to extract named entities:\n",
    "        if ent.label_ == \"PERSON\":\n",
    "            names.append(ent.text)\n",
    "        elif ent.label_ == \"ORG\":\n",
    "            entities.append(ent.text)\n",
    "        elif ent.label_ == \"GPE\":\n",
    "            countries.append(ent.text)\n",
    "        elif ent.label_ == \"DATE\":\n",
    "            dates.append(ent.text)\n",
    "        \n",
    "        # elif ent.label_ == \"EMAIL\":\n",
    "        #     emails.append(ent.text)\n",
    "\n",
    "    emails = re.findall(email_pattern, text)\n",
    "\n",
    "\n",
    "    return {\n",
    "        \"names\": names,\n",
    "        \"dates\": dates,\n",
    "        \"countries\": countries,\n",
    "        \"emails\": emails\n",
    "    }\n"
   ]
  },
  {
   "cell_type": "code",
   "execution_count": 41,
   "metadata": {},
   "outputs": [
    {
     "name": "stdout",
     "output_type": "stream",
     "text": [
      "{'names': ['Vinay Shankar'], 'dates': ['05/09/1989'], 'countries': ['India'], 'emails': ['manvins567@gmail.com', 'vinayxyz@yahoo.com']}\n"
     ]
    }
   ],
   "source": [
    "# Example usage\n",
    "text = \"Vinay Shankar is a Data Scientist from India working at TroveHealth Inc. He was born on 05/09/1989. You can contact him at manvins567@gmail.com and vinayxyz@yahoo.com.\"\n",
    "information = extract_information(text)\n",
    "print(information)"
   ]
  },
  {
   "cell_type": "code",
   "execution_count": 42,
   "metadata": {},
   "outputs": [
    {
     "name": "stdout",
     "output_type": "stream",
     "text": [
      "{'names': ['John Doe', 'Java', 'Django', 'John', 'John', 'John', 'Django', 'John'], 'dates': [], 'countries': ['PostgreSQL'], 'emails': ['johndoe@example.com']}\n"
     ]
    }
   ],
   "source": [
    "text2 = \"John Doe is a dedicated and motivated professional with a Bachelor of Science in Computer Science from XYZ University. \\\n",
    "    With a strong proficiency in programming languages such as Python, Java, and C++, \\\n",
    "    John has developed expertise in web development using HTML, CSS, and JavaScript. \\\n",
    "    His skills also include database management with MySQL and PostgreSQL. \\\n",
    "    John has a proven track record as a Software Engineer at ABC Tech Solutions, \\\n",
    "    where he was responsible for developing and maintaining software applications using Python and the Django framework. \\\n",
    "    He collaborated effectively with cross-functional teams to deliver high-quality software products, conducted code reviews, \\\n",
    "    and implemented best practices for software development. John also demonstrated his problem-solving skills by troubleshooting and resolving software defects and performance issues.\\\n",
    "During his internship at XYZ Corporation, John gained valuable experience assisting in the development and testing of software modules. He conducted research and analysis to support project requirements and actively participated in team meetings, providing valuable input on software design and functionality.\\\n",
    "John has showcased his abilities through various projects, including the development of a personal blog website with user authentication and blog post creation features using HTML, CSS, and JavaScript. He also designed and implemented a web-based inventory management system using Python and Django, which included features for tracking stock levels, generating reports, and managing orders.\\\n",
    "With excellent communication skills and a collaborative mindset, John is adept at working in team environments and contributing to the success of organizations. He is now seeking a challenging position in the field of [industry/field] where he can utilize his skills and knowledge to drive innovation and make a significant impact. Contact John at johndoe@example.com or via phone at +1 123-456-7890 for further inquiries.\"\n",
    "\n",
    "info2 = extract_information(text2)\n",
    "\n",
    "print(info2)"
   ]
  },
  {
   "cell_type": "code",
   "execution_count": null,
   "metadata": {},
   "outputs": [],
   "source": []
  }
 ],
 "metadata": {
  "kernelspec": {
   "display_name": "Python 3",
   "language": "python",
   "name": "python3"
  },
  "language_info": {
   "codemirror_mode": {
    "name": "ipython",
    "version": 3
   },
   "file_extension": ".py",
   "mimetype": "text/x-python",
   "name": "python",
   "nbconvert_exporter": "python",
   "pygments_lexer": "ipython3",
   "version": "3.8.10"
  },
  "orig_nbformat": 4
 },
 "nbformat": 4,
 "nbformat_minor": 2
}
